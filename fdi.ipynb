{
 "cells": [
  {
   "cell_type": "code",
   "execution_count": 70,
   "metadata": {},
   "outputs": [],
   "source": [
    "import pandas as pd\n",
    "import numpy as np\n",
    "import seaborn as sns\n",
    "import matplotlib.pyplot as plt\n",
    "\n",
    "sns.set(style=\"darkgrid\")"
   ]
  },
  {
   "cell_type": "code",
   "execution_count": 71,
   "metadata": {},
   "outputs": [
    {
     "data": {
      "text/html": [
       "<div>\n",
       "<style scoped>\n",
       "    .dataframe tbody tr th:only-of-type {\n",
       "        vertical-align: middle;\n",
       "    }\n",
       "\n",
       "    .dataframe tbody tr th {\n",
       "        vertical-align: top;\n",
       "    }\n",
       "\n",
       "    .dataframe thead th {\n",
       "        text-align: right;\n",
       "    }\n",
       "</style>\n",
       "<table border=\"1\" class=\"dataframe\">\n",
       "  <thead>\n",
       "    <tr style=\"text-align: right;\">\n",
       "      <th></th>\n",
       "      <th>Sector</th>\n",
       "      <th>2000-01</th>\n",
       "      <th>2001-02</th>\n",
       "      <th>2002-03</th>\n",
       "      <th>2003-04</th>\n",
       "      <th>2004-05</th>\n",
       "      <th>2005-06</th>\n",
       "      <th>2006-07</th>\n",
       "      <th>2007-08</th>\n",
       "      <th>2008-09</th>\n",
       "      <th>2009-10</th>\n",
       "      <th>2010-11</th>\n",
       "      <th>2011-12</th>\n",
       "      <th>2012-13</th>\n",
       "      <th>2013-14</th>\n",
       "      <th>2014-15</th>\n",
       "      <th>2015-16</th>\n",
       "      <th>2016-17</th>\n",
       "    </tr>\n",
       "  </thead>\n",
       "  <tbody>\n",
       "    <tr>\n",
       "      <th>0</th>\n",
       "      <td>METALLURGICAL INDUSTRIES</td>\n",
       "      <td>22.69</td>\n",
       "      <td>14.14</td>\n",
       "      <td>36.61</td>\n",
       "      <td>8.11</td>\n",
       "      <td>200.38</td>\n",
       "      <td>149.13</td>\n",
       "      <td>169.94</td>\n",
       "      <td>1175.75</td>\n",
       "      <td>959.94</td>\n",
       "      <td>419.88</td>\n",
       "      <td>1098.14</td>\n",
       "      <td>1786.14</td>\n",
       "      <td>1466.23</td>\n",
       "      <td>567.63</td>\n",
       "      <td>359.34</td>\n",
       "      <td>456.31</td>\n",
       "      <td>1440.18</td>\n",
       "    </tr>\n",
       "    <tr>\n",
       "      <th>1</th>\n",
       "      <td>MINING</td>\n",
       "      <td>1.32</td>\n",
       "      <td>6.52</td>\n",
       "      <td>10.06</td>\n",
       "      <td>23.48</td>\n",
       "      <td>9.92</td>\n",
       "      <td>7.40</td>\n",
       "      <td>6.62</td>\n",
       "      <td>444.36</td>\n",
       "      <td>34.16</td>\n",
       "      <td>174.40</td>\n",
       "      <td>79.51</td>\n",
       "      <td>142.65</td>\n",
       "      <td>57.89</td>\n",
       "      <td>12.73</td>\n",
       "      <td>684.39</td>\n",
       "      <td>520.67</td>\n",
       "      <td>55.75</td>\n",
       "    </tr>\n",
       "    <tr>\n",
       "      <th>2</th>\n",
       "      <td>POWER</td>\n",
       "      <td>89.42</td>\n",
       "      <td>757.44</td>\n",
       "      <td>59.11</td>\n",
       "      <td>27.09</td>\n",
       "      <td>43.37</td>\n",
       "      <td>72.69</td>\n",
       "      <td>157.15</td>\n",
       "      <td>988.68</td>\n",
       "      <td>907.66</td>\n",
       "      <td>1271.79</td>\n",
       "      <td>1271.77</td>\n",
       "      <td>1652.38</td>\n",
       "      <td>535.68</td>\n",
       "      <td>1066.08</td>\n",
       "      <td>707.04</td>\n",
       "      <td>868.80</td>\n",
       "      <td>1112.98</td>\n",
       "    </tr>\n",
       "    <tr>\n",
       "      <th>3</th>\n",
       "      <td>NON-CONVENTIONAL ENERGY</td>\n",
       "      <td>0.00</td>\n",
       "      <td>0.00</td>\n",
       "      <td>1.70</td>\n",
       "      <td>4.14</td>\n",
       "      <td>1.27</td>\n",
       "      <td>1.35</td>\n",
       "      <td>2.44</td>\n",
       "      <td>58.82</td>\n",
       "      <td>125.88</td>\n",
       "      <td>622.52</td>\n",
       "      <td>214.40</td>\n",
       "      <td>452.17</td>\n",
       "      <td>1106.52</td>\n",
       "      <td>414.25</td>\n",
       "      <td>615.95</td>\n",
       "      <td>776.51</td>\n",
       "      <td>783.57</td>\n",
       "    </tr>\n",
       "    <tr>\n",
       "      <th>4</th>\n",
       "      <td>COAL PRODUCTION</td>\n",
       "      <td>0.00</td>\n",
       "      <td>0.00</td>\n",
       "      <td>0.00</td>\n",
       "      <td>0.04</td>\n",
       "      <td>0.00</td>\n",
       "      <td>9.14</td>\n",
       "      <td>1.30</td>\n",
       "      <td>14.08</td>\n",
       "      <td>0.22</td>\n",
       "      <td>0.00</td>\n",
       "      <td>0.00</td>\n",
       "      <td>0.00</td>\n",
       "      <td>0.00</td>\n",
       "      <td>2.96</td>\n",
       "      <td>0.00</td>\n",
       "      <td>0.00</td>\n",
       "      <td>0.00</td>\n",
       "    </tr>\n",
       "  </tbody>\n",
       "</table>\n",
       "</div>"
      ],
      "text/plain": [
       "                     Sector  2000-01  2001-02  2002-03  2003-04  2004-05  \\\n",
       "0  METALLURGICAL INDUSTRIES    22.69    14.14    36.61     8.11   200.38   \n",
       "1                    MINING     1.32     6.52    10.06    23.48     9.92   \n",
       "2                     POWER    89.42   757.44    59.11    27.09    43.37   \n",
       "3   NON-CONVENTIONAL ENERGY     0.00     0.00     1.70     4.14     1.27   \n",
       "4           COAL PRODUCTION     0.00     0.00     0.00     0.04     0.00   \n",
       "\n",
       "   2005-06  2006-07  2007-08  2008-09  2009-10  2010-11  2011-12  2012-13  \\\n",
       "0   149.13   169.94  1175.75   959.94   419.88  1098.14  1786.14  1466.23   \n",
       "1     7.40     6.62   444.36    34.16   174.40    79.51   142.65    57.89   \n",
       "2    72.69   157.15   988.68   907.66  1271.79  1271.77  1652.38   535.68   \n",
       "3     1.35     2.44    58.82   125.88   622.52   214.40   452.17  1106.52   \n",
       "4     9.14     1.30    14.08     0.22     0.00     0.00     0.00     0.00   \n",
       "\n",
       "   2013-14  2014-15  2015-16  2016-17  \n",
       "0   567.63   359.34   456.31  1440.18  \n",
       "1    12.73   684.39   520.67    55.75  \n",
       "2  1066.08   707.04   868.80  1112.98  \n",
       "3   414.25   615.95   776.51   783.57  \n",
       "4     2.96     0.00     0.00     0.00  "
      ]
     },
     "execution_count": 71,
     "metadata": {},
     "output_type": "execute_result"
    }
   ],
   "source": [
    "fdi=pd.read_csv('FDI data.csv')\n",
    "fdi.head()"
   ]
  },
  {
   "cell_type": "code",
   "execution_count": 72,
   "metadata": {},
   "outputs": [
    {
     "name": "stderr",
     "output_type": "stream",
     "text": [
      "C:\\Users\\bithi\\AppData\\Local\\Temp\\ipykernel_3592\\3763474475.py:21: UserWarning:\n",
      "\n",
      "Tight layout not applied. The left and right margins cannot be made large enough to accommodate all axes decorations.\n",
      "\n"
     ]
    },
    {
     "data": {
      "image/png": "[encoded data removed]",
      "text/plain": [
       "<Figure size 1000x600 with 1 Axes>"
      ]
     },
     "metadata": {},
     "output_type": "display_data"
    }
   ],
   "source": [
    "import pandas as pd\n",
    "import matplotlib.pyplot as plt\n",
    "\n",
    "# Assuming 'df' is your DataFrame with FDI data\n",
    "\n",
    "# Set 'Sector' column as index for easier plotting\n",
    "fdi.set_index('Sector', inplace=True)\n",
    "\n",
    "# Plot FDI trends for each sector\n",
    "plt.figure(figsize=(10, 6))\n",
    "for sector in fdi.index:\n",
    "    plt.plot(fdi.columns, fdi.loc[sector], marker='o', label=sector)\n",
    "\n",
    "plt.title('FDI Trends by Sector')\n",
    "plt.xlabel('year')\n",
    "plt.ylabel('FDI Value')\n",
    "plt.xticks(rotation=45)\n",
    "plt.legend()\n",
    "plt.legend(loc='upper left', bbox_to_anchor=(1, 1))\n",
    "plt.grid(True)\n",
    "plt.tight_layout()\n",
    "plt.show()"
   ]
  },
  {
   "cell_type": "code",
   "execution_count": 38,
   "metadata": {},
   "outputs": [
    {
     "data": {
      "text/plain": [
       "Sector     0\n",
       "2000-01    0\n",
       "2001-02    0\n",
       "2002-03    0\n",
       "2003-04    0\n",
       "2004-05    0\n",
       "2005-06    0\n",
       "2006-07    0\n",
       "2007-08    0\n",
       "2008-09    0\n",
       "2009-10    0\n",
       "2010-11    0\n",
       "2011-12    0\n",
       "2012-13    0\n",
       "2013-14    0\n",
       "2014-15    0\n",
       "2015-16    0\n",
       "2016-17    0\n",
       "dtype: int64"
      ]
     },
     "execution_count": 38,
     "metadata": {},
     "output_type": "execute_result"
    }
   ],
   "source": [
    "fdi.isnull().sum()"
   ]
  },
  {
   "cell_type": "code",
   "execution_count": 39,
   "metadata": {},
   "outputs": [
    {
     "name": "stdout",
     "output_type": "stream",
     "text": [
      "<class 'pandas.core.frame.DataFrame'>\n",
      "RangeIndex: 63 entries, 0 to 62\n",
      "Data columns (total 18 columns):\n",
      " #   Column   Non-Null Count  Dtype  \n",
      "---  ------   --------------  -----  \n",
      " 0   Sector   63 non-null     object \n",
      " 1   2000-01  63 non-null     float64\n",
      " 2   2001-02  63 non-null     float64\n",
      " 3   2002-03  63 non-null     float64\n",
      " 4   2003-04  63 non-null     float64\n",
      " 5   2004-05  63 non-null     float64\n",
      " 6   2005-06  63 non-null     float64\n",
      " 7   2006-07  63 non-null     float64\n",
      " 8   2007-08  63 non-null     float64\n",
      " 9   2008-09  63 non-null     float64\n",
      " 10  2009-10  63 non-null     float64\n",
      " 11  2010-11  63 non-null     float64\n",
      " 12  2011-12  63 non-null     float64\n",
      " 13  2012-13  63 non-null     float64\n",
      " 14  2013-14  63 non-null     float64\n",
      " 15  2014-15  63 non-null     float64\n",
      " 16  2015-16  63 non-null     float64\n",
      " 17  2016-17  63 non-null     float64\n",
      "dtypes: float64(17), object(1)\n",
      "memory usage: 9.0+ KB\n"
     ]
    }
   ],
   "source": [
    "fdi.info()"
   ]
  },
  {
   "cell_type": "code",
   "execution_count": 40,
   "metadata": {},
   "outputs": [
    {
     "data": {
      "text/html": [
       "<div>\n",
       "<style scoped>\n",
       "    .dataframe tbody tr th:only-of-type {\n",
       "        vertical-align: middle;\n",
       "    }\n",
       "\n",
       "    .dataframe tbody tr th {\n",
       "        vertical-align: top;\n",
       "    }\n",
       "\n",
       "    .dataframe thead th {\n",
       "        text-align: right;\n",
       "    }\n",
       "</style>\n",
       "<table border=\"1\" class=\"dataframe\">\n",
       "  <thead>\n",
       "    <tr style=\"text-align: right;\">\n",
       "      <th></th>\n",
       "      <th>count</th>\n",
       "      <th>mean</th>\n",
       "      <th>std</th>\n",
       "      <th>min</th>\n",
       "      <th>25%</th>\n",
       "      <th>50%</th>\n",
       "      <th>75%</th>\n",
       "      <th>max</th>\n",
       "    </tr>\n",
       "  </thead>\n",
       "  <tbody>\n",
       "    <tr>\n",
       "      <th>2000-01</th>\n",
       "      <td>63.0</td>\n",
       "      <td>37.757302</td>\n",
       "      <td>112.227860</td>\n",
       "      <td>0.0</td>\n",
       "      <td>0.000</td>\n",
       "      <td>4.03</td>\n",
       "      <td>23.510</td>\n",
       "      <td>832.07</td>\n",
       "    </tr>\n",
       "    <tr>\n",
       "      <th>2001-02</th>\n",
       "      <td>63.0</td>\n",
       "      <td>63.931587</td>\n",
       "      <td>157.878737</td>\n",
       "      <td>0.0</td>\n",
       "      <td>0.000</td>\n",
       "      <td>5.07</td>\n",
       "      <td>44.830</td>\n",
       "      <td>873.23</td>\n",
       "    </tr>\n",
       "    <tr>\n",
       "      <th>2002-03</th>\n",
       "      <td>63.0</td>\n",
       "      <td>42.925714</td>\n",
       "      <td>86.606439</td>\n",
       "      <td>0.0</td>\n",
       "      <td>0.200</td>\n",
       "      <td>11.01</td>\n",
       "      <td>36.555</td>\n",
       "      <td>419.96</td>\n",
       "    </tr>\n",
       "    <tr>\n",
       "      <th>2003-04</th>\n",
       "      <td>63.0</td>\n",
       "      <td>34.727778</td>\n",
       "      <td>67.653735</td>\n",
       "      <td>0.0</td>\n",
       "      <td>0.215</td>\n",
       "      <td>6.37</td>\n",
       "      <td>38.660</td>\n",
       "      <td>368.32</td>\n",
       "    </tr>\n",
       "    <tr>\n",
       "      <th>2004-05</th>\n",
       "      <td>63.0</td>\n",
       "      <td>51.090317</td>\n",
       "      <td>101.934873</td>\n",
       "      <td>0.0</td>\n",
       "      <td>0.715</td>\n",
       "      <td>9.09</td>\n",
       "      <td>43.205</td>\n",
       "      <td>527.90</td>\n",
       "    </tr>\n",
       "    <tr>\n",
       "      <th>2005-06</th>\n",
       "      <td>63.0</td>\n",
       "      <td>87.932540</td>\n",
       "      <td>206.436967</td>\n",
       "      <td>0.0</td>\n",
       "      <td>1.230</td>\n",
       "      <td>22.62</td>\n",
       "      <td>63.855</td>\n",
       "      <td>1359.97</td>\n",
       "    </tr>\n",
       "    <tr>\n",
       "      <th>2006-07</th>\n",
       "      <td>63.0</td>\n",
       "      <td>198.281905</td>\n",
       "      <td>686.783115</td>\n",
       "      <td>0.0</td>\n",
       "      <td>4.160</td>\n",
       "      <td>25.82</td>\n",
       "      <td>108.325</td>\n",
       "      <td>4713.78</td>\n",
       "    </tr>\n",
       "    <tr>\n",
       "      <th>2007-08</th>\n",
       "      <td>63.0</td>\n",
       "      <td>390.085714</td>\n",
       "      <td>1026.249935</td>\n",
       "      <td>0.0</td>\n",
       "      <td>9.950</td>\n",
       "      <td>58.82</td>\n",
       "      <td>279.270</td>\n",
       "      <td>6986.17</td>\n",
       "    </tr>\n",
       "    <tr>\n",
       "      <th>2008-09</th>\n",
       "      <td>63.0</td>\n",
       "      <td>498.348571</td>\n",
       "      <td>1134.649040</td>\n",
       "      <td>0.0</td>\n",
       "      <td>11.950</td>\n",
       "      <td>84.88</td>\n",
       "      <td>383.320</td>\n",
       "      <td>6183.49</td>\n",
       "    </tr>\n",
       "    <tr>\n",
       "      <th>2009-10</th>\n",
       "      <td>63.0</td>\n",
       "      <td>410.069524</td>\n",
       "      <td>926.814626</td>\n",
       "      <td>0.0</td>\n",
       "      <td>7.880</td>\n",
       "      <td>69.74</td>\n",
       "      <td>341.595</td>\n",
       "      <td>5466.13</td>\n",
       "    </tr>\n",
       "    <tr>\n",
       "      <th>2010-11</th>\n",
       "      <td>63.0</td>\n",
       "      <td>339.413810</td>\n",
       "      <td>627.141139</td>\n",
       "      <td>0.0</td>\n",
       "      <td>8.430</td>\n",
       "      <td>58.07</td>\n",
       "      <td>304.280</td>\n",
       "      <td>3296.09</td>\n",
       "    </tr>\n",
       "    <tr>\n",
       "      <th>2011-12</th>\n",
       "      <td>63.0</td>\n",
       "      <td>557.472698</td>\n",
       "      <td>1031.474056</td>\n",
       "      <td>0.0</td>\n",
       "      <td>22.720</td>\n",
       "      <td>129.36</td>\n",
       "      <td>593.525</td>\n",
       "      <td>5215.98</td>\n",
       "    </tr>\n",
       "    <tr>\n",
       "      <th>2012-13</th>\n",
       "      <td>63.0</td>\n",
       "      <td>355.930000</td>\n",
       "      <td>778.091368</td>\n",
       "      <td>0.0</td>\n",
       "      <td>15.115</td>\n",
       "      <td>95.41</td>\n",
       "      <td>288.025</td>\n",
       "      <td>4832.98</td>\n",
       "    </tr>\n",
       "    <tr>\n",
       "      <th>2013-14</th>\n",
       "      <td>63.0</td>\n",
       "      <td>385.703492</td>\n",
       "      <td>658.429944</td>\n",
       "      <td>0.0</td>\n",
       "      <td>16.610</td>\n",
       "      <td>113.78</td>\n",
       "      <td>473.060</td>\n",
       "      <td>3982.89</td>\n",
       "    </tr>\n",
       "    <tr>\n",
       "      <th>2014-15</th>\n",
       "      <td>63.0</td>\n",
       "      <td>490.959841</td>\n",
       "      <td>837.787060</td>\n",
       "      <td>0.0</td>\n",
       "      <td>33.800</td>\n",
       "      <td>177.22</td>\n",
       "      <td>595.390</td>\n",
       "      <td>4443.26</td>\n",
       "    </tr>\n",
       "    <tr>\n",
       "      <th>2015-16</th>\n",
       "      <td>63.0</td>\n",
       "      <td>634.936349</td>\n",
       "      <td>1335.307706</td>\n",
       "      <td>0.0</td>\n",
       "      <td>30.000</td>\n",
       "      <td>159.13</td>\n",
       "      <td>519.070</td>\n",
       "      <td>6889.46</td>\n",
       "    </tr>\n",
       "    <tr>\n",
       "      <th>2016-17</th>\n",
       "      <td>63.0</td>\n",
       "      <td>690.131111</td>\n",
       "      <td>1411.965354</td>\n",
       "      <td>0.0</td>\n",
       "      <td>19.905</td>\n",
       "      <td>110.86</td>\n",
       "      <td>741.220</td>\n",
       "      <td>8684.07</td>\n",
       "    </tr>\n",
       "  </tbody>\n",
       "</table>\n",
       "</div>"
      ],
      "text/plain": [
       "         count        mean          std  min     25%     50%      75%      max\n",
       "2000-01   63.0   37.757302   112.227860  0.0   0.000    4.03   23.510   832.07\n",
       "2001-02   63.0   63.931587   157.878737  0.0   0.000    5.07   44.830   873.23\n",
       "2002-03   63.0   42.925714    86.606439  0.0   0.200   11.01   36.555   419.96\n",
       "2003-04   63.0   34.727778    67.653735  0.0   0.215    6.37   38.660   368.32\n",
       "2004-05   63.0   51.090317   101.934873  0.0   0.715    9.09   43.205   527.90\n",
       "2005-06   63.0   87.932540   206.436967  0.0   1.230   22.62   63.855  1359.97\n",
       "2006-07   63.0  198.281905   686.783115  0.0   4.160   25.82  108.325  4713.78\n",
       "2007-08   63.0  390.085714  1026.249935  0.0   9.950   58.82  279.270  6986.17\n",
       "2008-09   63.0  498.348571  1134.649040  0.0  11.950   84.88  383.320  6183.49\n",
       "2009-10   63.0  410.069524   926.814626  0.0   7.880   69.74  341.595  5466.13\n",
       "2010-11   63.0  339.413810   627.141139  0.0   8.430   58.07  304.280  3296.09\n",
       "2011-12   63.0  557.472698  1031.474056  0.0  22.720  129.36  593.525  5215.98\n",
       "2012-13   63.0  355.930000   778.091368  0.0  15.115   95.41  288.025  4832.98\n",
       "2013-14   63.0  385.703492   658.429944  0.0  16.610  113.78  473.060  3982.89\n",
       "2014-15   63.0  490.959841   837.787060  0.0  33.800  177.22  595.390  4443.26\n",
       "2015-16   63.0  634.936349  1335.307706  0.0  30.000  159.13  519.070  6889.46\n",
       "2016-17   63.0  690.131111  1411.965354  0.0  19.905  110.86  741.220  8684.07"
      ]
     },
     "execution_count": 40,
     "metadata": {},
     "output_type": "execute_result"
    }
   ],
   "source": [
    "fdi.describe().T"
   ]
  },
  {
   "cell_type": "code",
   "execution_count": 41,
   "metadata": {},
   "outputs": [],
   "source": [
    "years = ['2000', '2001', '2002', '2003', '2004', '2005',\n",
    "       '2006', '2007', '2008', '2009', '2010', '2011',\n",
    "       '2012', '2013', '2014', '2015', '2016']\n",
    "fdi.columns= ['Sector']+years"
   ]
  },
  {
   "cell_type": "code",
   "execution_count": 42,
   "metadata": {},
   "outputs": [
    {
     "data": {
      "text/plain": [
       "2013    24299.32\n",
       "2014    30930.47\n",
       "2015    40000.99\n",
       "2016    43478.26\n",
       "dtype: float64"
      ]
     },
     "execution_count": 42,
     "metadata": {},
     "output_type": "execute_result"
    }
   ],
   "source": [
    "yearly_fdi = fdi[years].sum(axis=0)\n",
    "yearly_fdi[-4:]"
   ]
  },
  {
   "cell_type": "code",
   "execution_count": 43,
   "metadata": {},
   "outputs": [
    {
     "data": {
      "application/vnd.plotly.v1+json": {
       "config": {
        "linkText": "Export to plot.ly",
        "plotlyServerURL": "https://plot.ly",
        "showLink": false
       },
       "data": [
        {
         "mode": "lines",
         "name": "FDI",
         "type": "scatter",
         "x": [
          "2012",
          "2013",
          "2014",
          "2015",
          "2016"
         ],
         "y": [
          22423.590000000004,
          24299.320000000003,
          30930.47,
          40000.990000000005,
          43478.26
         ]
        }
       ],
       "layout": {
        "template": {
         "data": {
          "bar": [
           {
            "error_x": {
             "color": "#2a3f5f"
            },
            "error_y": {
             "color": "#2a3f5f"
            },
            "marker": {
             "line": {
              "color": "#E5ECF6",
              "width": 0.5
             },
             "pattern": {
              "fillmode": "overlay",
              "size": 10,
              "solidity": 0.2
             }
            },
            "type": "bar"
           }
          ],
          "barpolar": [
           {
            "marker": {
             "line": {
              "color": "#E5ECF6",
              "width": 0.5
             },
             "pattern": {
              "fillmode": "overlay",
              "size": 10,
              "solidity": 0.2
             }
            },
            "type": "barpolar"
           }
          ],
          "carpet": [
           {
            "aaxis": {
             "endlinecolor": "#2a3f5f",
             "gridcolor": "white",
             "linecolor": "white",
             "minorgridcolor": "white",
             "startlinecolor": "#2a3f5f"
            },
            "baxis": {
             "endlinecolor": "#2a3f5f",
             "gridcolor": "white",
             "linecolor": "white",
             "minorgridcolor": "white",
             "startlinecolor": "#2a3f5f"
            },
            "type": "carpet"
           }
          ],
          "choropleth": [
           {
            "colorbar": {
             "outlinewidth": 0,
             "ticks": ""
            },
            "type": "choropleth"
           }
          ],
          "contour": [
           {
            "colorbar": {
             "outlinewidth": 0,
             "ticks": ""
            },
            "colorscale": [
             [
              0,
              "#0d0887"
             ],
             [
              0.1111111111111111,
              "#46039f"
             ],
             [
              0.2222222222222222,
              "#7201a8"
             ],
             [
              0.3333333333333333,
              "#9c179e"
             ],
             [
              0.4444444444444444,
              "#bd3786"
             ],
             [
              0.5555555555555556,
              "#d8576b"
             ],
             [
              0.6666666666666666,
              "#ed7953"
             ],
             [
              0.7777777777777778,
              "#fb9f3a"
             ],
             [
              0.8888888888888888,
              "#fdca26"
             ],
             [
              1,
              "#f0f921"
             ]
            ],
            "type": "contour"
           }
          ],
          "contourcarpet": [
           {
            "colorbar": {
             "outlinewidth": 0,
             "ticks": ""
            },
            "type": "contourcarpet"
           }
          ],
          "heatmap": [
           {
            "colorbar": {
             "outlinewidth": 0,
             "ticks": ""
            },
            "colorscale": [
             [
              0,
              "#0d0887"
             ],
             [
              0.1111111111111111,
              "#46039f"
             ],
             [
              0.2222222222222222,
              "#7201a8"
             ],
             [
              0.3333333333333333,
              "#9c179e"
             ],
             [
              0.4444444444444444,
              "#bd3786"
             ],
             [
              0.5555555555555556,
              "#d8576b"
             ],
             [
              0.6666666666666666,
              "#ed7953"
             ],
             [
              0.7777777777777778,
              "#fb9f3a"
             ],
             [
              0.8888888888888888,
              "#fdca26"
             ],
             [
              1,
              "#f0f921"
             ]
            ],
            "type": "heatmap"
           }
          ],
          "heatmapgl": [
           {
            "colorbar": {
             "outlinewidth": 0,
             "ticks": ""
            },
            "colorscale": [
             [
              0,
              "#0d0887"
             ],
             [
              0.1111111111111111,
              "#46039f"
             ],
             [
              0.2222222222222222,
              "#7201a8"
             ],
             [
              0.3333333333333333,
              "#9c179e"
             ],
             [
              0.4444444444444444,
              "#bd3786"
             ],
             [
              0.5555555555555556,
              "#d8576b"
             ],
             [
              0.6666666666666666,
              "#ed7953"
             ],
             [
              0.7777777777777778,
              "#fb9f3a"
             ],
             [
              0.8888888888888888,
              "#fdca26"
             ],
             [
              1,
              "#f0f921"
             ]
            ],
            "type": "heatmapgl"
           }
          ],
          "histogram": [
           {
            "marker": {
             "pattern": {
              "fillmode": "overlay",
              "size": 10,
              "solidity": 0.2
             }
            },
            "type": "histogram"
           }
          ],
          "histogram2d": [
           {
            "colorbar": {
             "outlinewidth": 0,
             "ticks": ""
            },
            "colorscale": [
             [
              0,
              "#0d0887"
             ],
             [
              0.1111111111111111,
              "#46039f"
             ],
             [
              0.2222222222222222,
              "#7201a8"
             ],
             [
              0.3333333333333333,
              "#9c179e"
             ],
             [
              0.4444444444444444,
              "#bd3786"
             ],
             [
              0.5555555555555556,
              "#d8576b"
             ],
             [
              0.6666666666666666,
              "#ed7953"
             ],
             [
              0.7777777777777778,
              "#fb9f3a"
             ],
             [
              0.8888888888888888,
              "#fdca26"
             ],
             [
              1,
              "#f0f921"
             ]
            ],
            "type": "histogram2d"
           }
          ],
          "histogram2dcontour": [
           {
            "colorbar": {
             "outlinewidth": 0,
             "ticks": ""
            },
            "colorscale": [
             [
              0,
              "#0d0887"
             ],
             [
              0.1111111111111111,
              "#46039f"
             ],
             [
              0.2222222222222222,
              "#7201a8"
             ],
             [
              0.3333333333333333,
              "#9c179e"
             ],
             [
              0.4444444444444444,
              "#bd3786"
             ],
             [
              0.5555555555555556,
              "#d8576b"
             ],
             [
              0.6666666666666666,
              "#ed7953"
             ],
             [
              0.7777777777777778,
              "#fb9f3a"
             ],
             [
              0.8888888888888888,
              "#fdca26"
             ],
             [
              1,
              "#f0f921"
             ]
            ],
            "type": "histogram2dcontour"
           }
          ],
          "mesh3d": [
           {
            "colorbar": {
             "outlinewidth": 0,
             "ticks": ""
            },
            "type": "mesh3d"
           }
          ],
          "parcoords": [
           {
            "line": {
             "colorbar": {
              "outlinewidth": 0,
              "ticks": ""
             }
            },
            "type": "parcoords"
           }
          ],
          "pie": [
           {
            "automargin": true,
            "type": "pie"
           }
          ],
          "scatter": [
           {
            "fillpattern": {
             "fillmode": "overlay",
             "size": 10,
             "solidity": 0.2
            },
            "type": "scatter"
           }
          ],
          "scatter3d": [
           {
            "line": {
             "colorbar": {
              "outlinewidth": 0,
              "ticks": ""
             }
            },
            "marker": {
             "colorbar": {
              "outlinewidth": 0,
              "ticks": ""
             }
            },
            "type": "scatter3d"
           }
          ],
          "scattercarpet": [
           {
            "marker": {
             "colorbar": {
              "outlinewidth": 0,
              "ticks": ""
             }
            },
            "type": "scattercarpet"
           }
          ],
          "scattergeo": [
           {
            "marker": {
             "colorbar": {
              "outlinewidth": 0,
              "ticks": ""
             }
            },
            "type": "scattergeo"
           }
          ],
          "scattergl": [
           {
            "marker": {
             "colorbar": {
              "outlinewidth": 0,
              "ticks": ""
             }
            },
            "type": "scattergl"
           }
          ],
          "scattermapbox": [
           {
            "marker": {
             "colorbar": {
              "outlinewidth": 0,
              "ticks": ""
             }
            },
            "type": "scattermapbox"
           }
          ],
          "scatterpolar": [
           {
            "marker": {
             "colorbar": {
              "outlinewidth": 0,
              "ticks": ""
             }
            },
            "type": "scatterpolar"
           }
          ],
          "scatterpolargl": [
           {
            "marker": {
             "colorbar": {
              "outlinewidth": 0,
              "ticks": ""
             }
            },
            "type": "scatterpolargl"
           }
          ],
          "scatterternary": [
           {
            "marker": {
             "colorbar": {
              "outlinewidth": 0,
              "ticks": ""
             }
            },
            "type": "scatterternary"
           }
          ],
          "surface": [
           {
            "colorbar": {
             "outlinewidth": 0,
             "ticks": ""
            },
            "colorscale": [
             [
              0,
              "#0d0887"
             ],
             [
              0.1111111111111111,
              "#46039f"
             ],
             [
              0.2222222222222222,
              "#7201a8"
             ],
             [
              0.3333333333333333,
              "#9c179e"
             ],
             [
              0.4444444444444444,
              "#bd3786"
             ],
             [
              0.5555555555555556,
              "#d8576b"
             ],
             [
              0.6666666666666666,
              "#ed7953"
             ],
             [
              0.7777777777777778,
              "#fb9f3a"
             ],
             [
              0.8888888888888888,
              "#fdca26"
             ],
             [
              1,
              "#f0f921"
             ]
            ],
            "type": "surface"
           }
          ],
          "table": [
           {
            "cells": {
             "fill": {
              "color": "#EBF0F8"
             },
             "line": {
              "color": "white"
             }
            },
            "header": {
             "fill": {
              "color": "#C8D4E3"
             },
             "line": {
              "color": "white"
             }
            },
            "type": "table"
           }
          ]
         },
         "layout": {
          "annotationdefaults": {
           "arrowcolor": "#2a3f5f",
           "arrowhead": 0,
           "arrowwidth": 1
          },
          "autotypenumbers": "strict",
          "coloraxis": {
           "colorbar": {
            "outlinewidth": 0,
            "ticks": ""
           }
          },
          "colorscale": {
           "diverging": [
            [
             0,
             "#8e0152"
            ],
            [
             0.1,
             "#c51b7d"
            ],
            [
             0.2,
             "#de77ae"
            ],
            [
             0.3,
             "#f1b6da"
            ],
            [
             0.4,
             "#fde0ef"
            ],
            [
             0.5,
             "#f7f7f7"
            ],
            [
             0.6,
             "#e6f5d0"
            ],
            [
             0.7,
             "#b8e186"
            ],
            [
             0.8,
             "#7fbc41"
            ],
            [
             0.9,
             "#4d9221"
            ],
            [
             1,
             "#276419"
            ]
           ],
           "sequential": [
            [
             0,
             "#0d0887"
            ],
            [
             0.1111111111111111,
             "#46039f"
            ],
            [
             0.2222222222222222,
             "#7201a8"
            ],
            [
             0.3333333333333333,
             "#9c179e"
            ],
            [
             0.4444444444444444,
             "#bd3786"
            ],
            [
             0.5555555555555556,
             "#d8576b"
            ],
            [
             0.6666666666666666,
             "#ed7953"
            ],
            [
             0.7777777777777778,
             "#fb9f3a"
            ],
            [
             0.8888888888888888,
             "#fdca26"
            ],
            [
             1,
             "#f0f921"
            ]
           ],
           "sequentialminus": [
            [
             0,
             "#0d0887"
            ],
            [
             0.1111111111111111,
             "#46039f"
            ],
            [
             0.2222222222222222,
             "#7201a8"
            ],
            [
             0.3333333333333333,
             "#9c179e"
            ],
            [
             0.4444444444444444,
             "#bd3786"
            ],
            [
             0.5555555555555556,
             "#d8576b"
            ],
            [
             0.6666666666666666,
             "#ed7953"
            ],
            [
             0.7777777777777778,
             "#fb9f3a"
            ],
            [
             0.8888888888888888,
             "#fdca26"
            ],
            [
             1,
             "#f0f921"
            ]
           ]
          },
          "colorway": [
           "#636efa",
           "#EF553B",
           "#00cc96",
           "#ab63fa",
           "#FFA15A",
           "#19d3f3",
           "#FF6692",
           "#B6E880",
           "#FF97FF",
           "#FECB52"
          ],
          "font": {
           "color": "#2a3f5f"
          },
          "geo": {
           "bgcolor": "white",
           "lakecolor": "white",
           "landcolor": "#E5ECF6",
           "showlakes": true,
           "showland": true,
           "subunitcolor": "white"
          },
          "hoverlabel": {
           "align": "left"
          },
          "hovermode": "closest",
          "mapbox": {
           "style": "light"
          },
          "paper_bgcolor": "white",
          "plot_bgcolor": "#E5ECF6",
          "polar": {
           "angularaxis": {
            "gridcolor": "white",
            "linecolor": "white",
            "ticks": ""
           },
           "bgcolor": "#E5ECF6",
           "radialaxis": {
            "gridcolor": "white",
            "linecolor": "white",
            "ticks": ""
           }
          },
          "scene": {
           "xaxis": {
            "backgroundcolor": "#E5ECF6",
            "gridcolor": "white",
            "gridwidth": 2,
            "linecolor": "white",
            "showbackground": true,
            "ticks": "",
            "zerolinecolor": "white"
           },
           "yaxis": {
            "backgroundcolor": "#E5ECF6",
            "gridcolor": "white",
            "gridwidth": 2,
            "linecolor": "white",
            "showbackground": true,
            "ticks": "",
            "zerolinecolor": "white"
           },
           "zaxis": {
            "backgroundcolor": "#E5ECF6",
            "gridcolor": "white",
            "gridwidth": 2,
            "linecolor": "white",
            "showbackground": true,
            "ticks": "",
            "zerolinecolor": "white"
           }
          },
          "shapedefaults": {
           "line": {
            "color": "#2a3f5f"
           }
          },
          "ternary": {
           "aaxis": {
            "gridcolor": "white",
            "linecolor": "white",
            "ticks": ""
           },
           "baxis": {
            "gridcolor": "white",
            "linecolor": "white",
            "ticks": ""
           },
           "bgcolor": "#E5ECF6",
           "caxis": {
            "gridcolor": "white",
            "linecolor": "white",
            "ticks": ""
           }
          },
          "title": {
           "x": 0.05
          },
          "xaxis": {
           "automargin": true,
           "gridcolor": "white",
           "linecolor": "white",
           "ticks": "",
           "title": {
            "standoff": 15
           },
           "zerolinecolor": "white",
           "zerolinewidth": 2
          },
          "yaxis": {
           "automargin": true,
           "gridcolor": "white",
           "linecolor": "white",
           "ticks": "",
           "title": {
            "standoff": 15
           },
           "zerolinecolor": "white",
           "zerolinewidth": 2
          }
         }
        },
        "title": {
         "text": "FDI by year"
        },
        "xaxis": {
         "title": {
          "font": {
           "color": "#7f7f7f",
           "family": "Courier New, monospace",
           "size": 18
          },
          "text": "Year"
         }
        },
        "yaxis": {
         "title": {
          "font": {
           "color": "#7f7f7f",
           "family": "Courier New, monospace",
           "size": 18
          },
          "text": "Total FDI"
         }
        }
       }
      }
     },
     "metadata": {},
     "output_type": "display_data"
    }
   ],
   "source": [
    "import plotly.graph_objects as go\n",
    "from plotly.offline import iplot\n",
    "\n",
    "trace = go.Scatter(\n",
    "    x= yearly_fdi.index[-5:],\n",
    "    y=yearly_fdi.values[-5:],\n",
    "    mode = 'lines',\n",
    "    name = 'FDI'\n",
    ")\n",
    "\n",
    "layout = go.Layout(\n",
    "    title='FDI by year',\n",
    "    xaxis=dict(\n",
    "        title='Year',\n",
    "        titlefont=dict(\n",
    "            family='Courier New, monospace',\n",
    "            size=18,\n",
    "            color='#7f7f7f'\n",
    "        )\n",
    "    ),\n",
    "    yaxis=dict(\n",
    "        title='Total FDI',\n",
    "        titlefont=dict(\n",
    "            family='Courier New, monospace',\n",
    "            size=18,\n",
    "            color='#7f7f7f'\n",
    "        )\n",
    "        \n",
    "        )\n",
    ")\n",
    "data = [trace]\n",
    "fig = go.Figure(data=data, layout=layout)\n",
    "iplot(fig)    "
   ]
  },
  {
   "cell_type": "code",
   "execution_count": 44,
   "metadata": {},
   "outputs": [
    {
     "data": {
      "text/plain": [
       "array([ 567.63,  359.34,  456.31, 1440.18])"
      ]
     },
     "execution_count": 44,
     "metadata": {},
     "output_type": "execute_result"
    }
   ],
   "source": [
    "#df['Sector'].unique()\n",
    "fdi[fdi['Sector']=='METALLURGICAL INDUSTRIES'][years].values[0][-4:]"
   ]
  },
  {
   "cell_type": "code",
   "execution_count": 45,
   "metadata": {},
   "outputs": [
    {
     "data": {
      "application/vnd.plotly.v1+json": {
       "config": {
        "linkText": "Export to plot.ly",
        "plotlyServerURL": "https://plot.ly",
        "showLink": false
       },
       "data": [
        {
         "fill": "tozeroy",
         "hoverinfo": "x+y+name",
         "line": {
          "width": 2
         },
         "mode": "lines",
         "name": "SERVICES SECTOR (Fin.,Banking,Insurance,Non Fin/Business,Outsourcing,R&D,Courier,Tech. Testing and Analysis, Other)",
         "type": "scatter",
         "x": [
          "2013",
          "2014",
          "2015",
          "2016"
         ],
         "y": [
          2225.1,
          4443.26,
          6889.46,
          8684.07
         ]
        },
        {
         "fill": "tozeroy",
         "hoverinfo": "x+y+name",
         "line": {
          "width": 2
         },
         "mode": "lines",
         "name": "TELECOMMUNICATIONS",
         "type": "scatter",
         "x": [
          "2013",
          "2014",
          "2015",
          "2016"
         ],
         "y": [
          1306.95,
          2894.94,
          1324.4,
          5563.69
         ]
        },
        {
         "fill": "tozeroy",
         "hoverinfo": "x+y+name",
         "line": {
          "width": 2
         },
         "mode": "lines",
         "name": "COMPUTER SOFTWARE & HARDWARE",
         "type": "scatter",
         "x": [
          "2013",
          "2014",
          "2015",
          "2016"
         ],
         "y": [
          1126.27,
          2296.04,
          5904.36,
          3651.71
         ]
        },
        {
         "fill": "tozeroy",
         "hoverinfo": "x+y+name",
         "line": {
          "width": 2
         },
         "mode": "lines",
         "name": "TRADING",
         "type": "scatter",
         "x": [
          "2013",
          "2014",
          "2015",
          "2016"
         ],
         "y": [
          1343.39,
          2727.96,
          3845.32,
          2338.4
         ]
        },
        {
         "fill": "tozeroy",
         "hoverinfo": "x+y+name",
         "line": {
          "width": 2
         },
         "mode": "lines",
         "name": "ELECTRICAL EQUIPMENTS",
         "type": "scatter",
         "x": [
          "2013",
          "2014",
          "2015",
          "2016"
         ],
         "y": [
          134.31,
          574.83,
          444.88,
          2230.69
         ]
        }
       ],
       "layout": {
        "legend": {
         "orientation": "h",
         "x": 1,
         "xanchor": "right",
         "y": 1.02,
         "yanchor": "bottom"
        },
        "showlegend": true,
        "template": {
         "data": {
          "bar": [
           {
            "error_x": {
             "color": "#2a3f5f"
            },
            "error_y": {
             "color": "#2a3f5f"
            },
            "marker": {
             "line": {
              "color": "#E5ECF6",
              "width": 0.5
             },
             "pattern": {
              "fillmode": "overlay",
              "size": 10,
              "solidity": 0.2
             }
            },
            "type": "bar"
           }
          ],
          "barpolar": [
           {
            "marker": {
             "line": {
              "color": "#E5ECF6",
              "width": 0.5
             },
             "pattern": {
              "fillmode": "overlay",
              "size": 10,
              "solidity": 0.2
             }
            },
            "type": "barpolar"
           }
          ],
          "carpet": [
           {
            "aaxis": {
             "endlinecolor": "#2a3f5f",
             "gridcolor": "white",
             "linecolor": "white",
             "minorgridcolor": "white",
             "startlinecolor": "#2a3f5f"
            },
            "baxis": {
             "endlinecolor": "#2a3f5f",
             "gridcolor": "white",
             "linecolor": "white",
             "minorgridcolor": "white",
             "startlinecolor": "#2a3f5f"
            },
            "type": "carpet"
           }
          ],
          "choropleth": [
           {
            "colorbar": {
             "outlinewidth": 0,
             "ticks": ""
            },
            "type": "choropleth"
           }
          ],
          "contour": [
           {
            "colorbar": {
             "outlinewidth": 0,
             "ticks": ""
            },
            "colorscale": [
             [
              0,
              "#0d0887"
             ],
             [
              0.1111111111111111,
              "#46039f"
             ],
             [
              0.2222222222222222,
              "#7201a8"
             ],
             [
              0.3333333333333333,
              "#9c179e"
             ],
             [
              0.4444444444444444,
              "#bd3786"
             ],
             [
              0.5555555555555556,
              "#d8576b"
             ],
             [
              0.6666666666666666,
              "#ed7953"
             ],
             [
              0.7777777777777778,
              "#fb9f3a"
             ],
             [
              0.8888888888888888,
              "#fdca26"
             ],
             [
              1,
              "#f0f921"
             ]
            ],
            "type": "contour"
           }
          ],
          "contourcarpet": [
           {
            "colorbar": {
             "outlinewidth": 0,
             "ticks": ""
            },
            "type": "contourcarpet"
           }
          ],
          "heatmap": [
           {
            "colorbar": {
             "outlinewidth": 0,
             "ticks": ""
            },
            "colorscale": [
             [
              0,
              "#0d0887"
             ],
             [
              0.1111111111111111,
              "#46039f"
             ],
             [
              0.2222222222222222,
              "#7201a8"
             ],
             [
              0.3333333333333333,
              "#9c179e"
             ],
             [
              0.4444444444444444,
              "#bd3786"
             ],
             [
              0.5555555555555556,
              "#d8576b"
             ],
             [
              0.6666666666666666,
              "#ed7953"
             ],
             [
              0.7777777777777778,
              "#fb9f3a"
             ],
             [
              0.8888888888888888,
              "#fdca26"
             ],
             [
              1,
              "#f0f921"
             ]
            ],
            "type": "heatmap"
           }
          ],
          "heatmapgl": [
           {
            "colorbar": {
             "outlinewidth": 0,
             "ticks": ""
            },
            "colorscale": [
             [
              0,
              "#0d0887"
             ],
             [
              0.1111111111111111,
              "#46039f"
             ],
             [
              0.2222222222222222,
              "#7201a8"
             ],
             [
              0.3333333333333333,
              "#9c179e"
             ],
             [
              0.4444444444444444,
              "#bd3786"
             ],
             [
              0.5555555555555556,
              "#d8576b"
             ],
             [
              0.6666666666666666,
              "#ed7953"
             ],
             [
              0.7777777777777778,
              "#fb9f3a"
             ],
             [
              0.8888888888888888,
              "#fdca26"
             ],
             [
              1,
              "#f0f921"
             ]
            ],
            "type": "heatmapgl"
           }
          ],
          "histogram": [
           {
            "marker": {
             "pattern": {
              "fillmode": "overlay",
              "size": 10,
              "solidity": 0.2
             }
            },
            "type": "histogram"
           }
          ],
          "histogram2d": [
           {
            "colorbar": {
             "outlinewidth": 0,
             "ticks": ""
            },
            "colorscale": [
             [
              0,
              "#0d0887"
             ],
             [
              0.1111111111111111,
              "#46039f"
             ],
             [
              0.2222222222222222,
              "#7201a8"
             ],
             [
              0.3333333333333333,
              "#9c179e"
             ],
             [
              0.4444444444444444,
              "#bd3786"
             ],
             [
              0.5555555555555556,
              "#d8576b"
             ],
             [
              0.6666666666666666,
              "#ed7953"
             ],
             [
              0.7777777777777778,
              "#fb9f3a"
             ],
             [
              0.8888888888888888,
              "#fdca26"
             ],
             [
              1,
              "#f0f921"
             ]
            ],
            "type": "histogram2d"
           }
          ],
          "histogram2dcontour": [
           {
            "colorbar": {
             "outlinewidth": 0,
             "ticks": ""
            },
            "colorscale": [
             [
              0,
              "#0d0887"
             ],
             [
              0.1111111111111111,
              "#46039f"
             ],
             [
              0.2222222222222222,
              "#7201a8"
             ],
             [
              0.3333333333333333,
              "#9c179e"
             ],
             [
              0.4444444444444444,
              "#bd3786"
             ],
             [
              0.5555555555555556,
              "#d8576b"
             ],
             [
              0.6666666666666666,
              "#ed7953"
             ],
             [
              0.7777777777777778,
              "#fb9f3a"
             ],
             [
              0.8888888888888888,
              "#fdca26"
             ],
             [
              1,
              "#f0f921"
             ]
            ],
            "type": "histogram2dcontour"
           }
          ],
          "mesh3d": [
           {
            "colorbar": {
             "outlinewidth": 0,
             "ticks": ""
            },
            "type": "mesh3d"
           }
          ],
          "parcoords": [
           {
            "line": {
             "colorbar": {
              "outlinewidth": 0,
              "ticks": ""
             }
            },
            "type": "parcoords"
           }
          ],
          "pie": [
           {
            "automargin": true,
            "type": "pie"
           }
          ],
          "scatter": [
           {
            "fillpattern": {
             "fillmode": "overlay",
             "size": 10,
             "solidity": 0.2
            },
            "type": "scatter"
           }
          ],
          "scatter3d": [
           {
            "line": {
             "colorbar": {
              "outlinewidth": 0,
              "ticks": ""
             }
            },
            "marker": {
             "colorbar": {
              "outlinewidth": 0,
              "ticks": ""
             }
            },
            "type": "scatter3d"
           }
          ],
          "scattercarpet": [
           {
            "marker": {
             "colorbar": {
              "outlinewidth": 0,
              "ticks": ""
             }
            },
            "type": "scattercarpet"
           }
          ],
          "scattergeo": [
           {
            "marker": {
             "colorbar": {
              "outlinewidth": 0,
              "ticks": ""
             }
            },
            "type": "scattergeo"
           }
          ],
          "scattergl": [
           {
            "marker": {
             "colorbar": {
              "outlinewidth": 0,
              "ticks": ""
             }
            },
            "type": "scattergl"
           }
          ],
          "scattermapbox": [
           {
            "marker": {
             "colorbar": {
              "outlinewidth": 0,
              "ticks": ""
             }
            },
            "type": "scattermapbox"
           }
          ],
          "scatterpolar": [
           {
            "marker": {
             "colorbar": {
              "outlinewidth": 0,
              "ticks": ""
             }
            },
            "type": "scatterpolar"
           }
          ],
          "scatterpolargl": [
           {
            "marker": {
             "colorbar": {
              "outlinewidth": 0,
              "ticks": ""
             }
            },
            "type": "scatterpolargl"
           }
          ],
          "scatterternary": [
           {
            "marker": {
             "colorbar": {
              "outlinewidth": 0,
              "ticks": ""
             }
            },
            "type": "scatterternary"
           }
          ],
          "surface": [
           {
            "colorbar": {
             "outlinewidth": 0,
             "ticks": ""
            },
            "colorscale": [
             [
              0,
              "#0d0887"
             ],
             [
              0.1111111111111111,
              "#46039f"
             ],
             [
              0.2222222222222222,
              "#7201a8"
             ],
             [
              0.3333333333333333,
              "#9c179e"
             ],
             [
              0.4444444444444444,
              "#bd3786"
             ],
             [
              0.5555555555555556,
              "#d8576b"
             ],
             [
              0.6666666666666666,
              "#ed7953"
             ],
             [
              0.7777777777777778,
              "#fb9f3a"
             ],
             [
              0.8888888888888888,
              "#fdca26"
             ],
             [
              1,
              "#f0f921"
             ]
            ],
            "type": "surface"
           }
          ],
          "table": [
           {
            "cells": {
             "fill": {
              "color": "#EBF0F8"
             },
             "line": {
              "color": "white"
             }
            },
            "header": {
             "fill": {
              "color": "#C8D4E3"
             },
             "line": {
              "color": "white"
             }
            },
            "type": "table"
           }
          ]
         },
         "layout": {
          "annotationdefaults": {
           "arrowcolor": "#2a3f5f",
           "arrowhead": 0,
           "arrowwidth": 1
          },
          "autotypenumbers": "strict",
          "coloraxis": {
           "colorbar": {
            "outlinewidth": 0,
            "ticks": ""
           }
          },
          "colorscale": {
           "diverging": [
            [
             0,
             "#8e0152"
            ],
            [
             0.1,
             "#c51b7d"
            ],
            [
             0.2,
             "#de77ae"
            ],
            [
             0.3,
             "#f1b6da"
            ],
            [
             0.4,
             "#fde0ef"
            ],
            [
             0.5,
             "#f7f7f7"
            ],
            [
             0.6,
             "#e6f5d0"
            ],
            [
             0.7,
             "#b8e186"
            ],
            [
             0.8,
             "#7fbc41"
            ],
            [
             0.9,
             "#4d9221"
            ],
            [
             1,
             "#276419"
            ]
           ],
           "sequential": [
            [
             0,
             "#0d0887"
            ],
            [
             0.1111111111111111,
             "#46039f"
            ],
            [
             0.2222222222222222,
             "#7201a8"
            ],
            [
             0.3333333333333333,
             "#9c179e"
            ],
            [
             0.4444444444444444,
             "#bd3786"
            ],
            [
             0.5555555555555556,
             "#d8576b"
            ],
            [
             0.6666666666666666,
             "#ed7953"
            ],
            [
             0.7777777777777778,
             "#fb9f3a"
            ],
            [
             0.8888888888888888,
             "#fdca26"
            ],
            [
             1,
             "#f0f921"
            ]
           ],
           "sequentialminus": [
            [
             0,
             "#0d0887"
            ],
            [
             0.1111111111111111,
             "#46039f"
            ],
            [
             0.2222222222222222,
             "#7201a8"
            ],
            [
             0.3333333333333333,
             "#9c179e"
            ],
            [
             0.4444444444444444,
             "#bd3786"
            ],
            [
             0.5555555555555556,
             "#d8576b"
            ],
            [
             0.6666666666666666,
             "#ed7953"
            ],
            [
             0.7777777777777778,
             "#fb9f3a"
            ],
            [
             0.8888888888888888,
             "#fdca26"
            ],
            [
             1,
             "#f0f921"
            ]
           ]
          },
          "colorway": [
           "#636efa",
           "#EF553B",
           "#00cc96",
           "#ab63fa",
           "#FFA15A",
           "#19d3f3",
           "#FF6692",
           "#B6E880",
           "#FF97FF",
           "#FECB52"
          ],
          "font": {
           "color": "#2a3f5f"
          },
          "geo": {
           "bgcolor": "white",
           "lakecolor": "white",
           "landcolor": "#E5ECF6",
           "showlakes": true,
           "showland": true,
           "subunitcolor": "white"
          },
          "hoverlabel": {
           "align": "left"
          },
          "hovermode": "closest",
          "mapbox": {
           "style": "light"
          },
          "paper_bgcolor": "white",
          "plot_bgcolor": "#E5ECF6",
          "polar": {
           "angularaxis": {
            "gridcolor": "white",
            "linecolor": "white",
            "ticks": ""
           },
           "bgcolor": "#E5ECF6",
           "radialaxis": {
            "gridcolor": "white",
            "linecolor": "white",
            "ticks": ""
           }
          },
          "scene": {
           "xaxis": {
            "backgroundcolor": "#E5ECF6",
            "gridcolor": "white",
            "gridwidth": 2,
            "linecolor": "white",
            "showbackground": true,
            "ticks": "",
            "zerolinecolor": "white"
           },
           "yaxis": {
            "backgroundcolor": "#E5ECF6",
            "gridcolor": "white",
            "gridwidth": 2,
            "linecolor": "white",
            "showbackground": true,
            "ticks": "",
            "zerolinecolor": "white"
           },
           "zaxis": {
            "backgroundcolor": "#E5ECF6",
            "gridcolor": "white",
            "gridwidth": 2,
            "linecolor": "white",
            "showbackground": true,
            "ticks": "",
            "zerolinecolor": "white"
           }
          },
          "shapedefaults": {
           "line": {
            "color": "#2a3f5f"
           }
          },
          "ternary": {
           "aaxis": {
            "gridcolor": "white",
            "linecolor": "white",
            "ticks": ""
           },
           "baxis": {
            "gridcolor": "white",
            "linecolor": "white",
            "ticks": ""
           },
           "bgcolor": "#E5ECF6",
           "caxis": {
            "gridcolor": "white",
            "linecolor": "white",
            "ticks": ""
           }
          },
          "title": {
           "x": 0.05
          },
          "xaxis": {
           "automargin": true,
           "gridcolor": "white",
           "linecolor": "white",
           "ticks": "",
           "title": {
            "standoff": 15
           },
           "zerolinecolor": "white",
           "zerolinewidth": 2
          },
          "yaxis": {
           "automargin": true,
           "gridcolor": "white",
           "linecolor": "white",
           "ticks": "",
           "title": {
            "standoff": 15
           },
           "zerolinecolor": "white",
           "zerolinewidth": 2
          }
         }
        },
        "title": {
         "text": "Annual FDI by sector"
        },
        "xaxis": {
         "title": {
          "font": {
           "color": "#7f7f7f",
           "family": "Courier New, monospace",
           "size": 18
          },
          "text": "Year"
         }
        },
        "yaxis": {
         "title": {
          "font": {
           "color": "#7f7f7f",
           "family": "Courier New, monospace",
           "size": 18
          },
          "text": "FDI"
         }
        }
       }
      }
     },
     "metadata": {},
     "output_type": "display_data"
    }
   ],
   "source": [
    "import plotly.graph_objects as go\n",
    "from plotly.offline import iplot\n",
    "data = []\n",
    "sectors = fdi[['Sector', '2016']].sort_values(by='2016', ascending=False)['Sector'][:5].values\n",
    "for sector in sectors:\n",
    "    s = fdi[fdi['Sector'] == sector]\n",
    "    y_val = s[years].values[0][-4:]\n",
    "    trace = go.Scatter(\n",
    "        x=years[-4:],\n",
    "        y=y_val,\n",
    "        fill='tozeroy',\n",
    "        name=sector,\n",
    "        mode='lines',\n",
    "        hoverinfo='x+y+name',  \n",
    "        line=dict(width=2)  \n",
    "    )\n",
    "    data.append(trace)\n",
    "\n",
    "layout = go.Layout(\n",
    "    title='Annual FDI by sector',\n",
    "    xaxis=dict(\n",
    "        title='Year',\n",
    "        titlefont=dict(\n",
    "            family='Courier New, monospace',\n",
    "            size=18,\n",
    "            color='#7f7f7f'\n",
    "        )\n",
    "    ),\n",
    "    yaxis=dict(\n",
    "        title='FDI',\n",
    "        titlefont=dict(\n",
    "            family='Courier New, monospace',\n",
    "            size=18,\n",
    "            color='#7f7f7f'\n",
    "        )\n",
    "    ),\n",
    "    showlegend=True,  \n",
    "    legend=dict(orientation='h', yanchor='bottom', y=1.02, xanchor='right', x=1)  \n",
    ")\n",
    "\n",
    "fig = go.Figure(data=data, layout=layout)\n",
    "iplot(fig)\n"
   ]
  },
  {
   "cell_type": "code",
   "execution_count": 46,
   "metadata": {},
   "outputs": [],
   "source": [
    "def f(x, y, n):\n",
    "    if x:return ((y/x)**(1/n))-1\n",
    "    else: return np.nan\n",
    "y_start = 2012\n",
    "y_end = 2016\n",
    "fdi['cagr'] = fdi[['Sector',str(y_start),str(y_end)]].apply(lambda x: f(x[str(y_start)],x[str(y_end)], y_end-y_start), axis=1)"
   ]
  },
  {
   "cell_type": "code",
   "execution_count": 47,
   "metadata": {},
   "outputs": [
    {
     "data": {
      "text/html": [
       "<div>\n",
       "<style scoped>\n",
       "    .dataframe tbody tr th:only-of-type {\n",
       "        vertical-align: middle;\n",
       "    }\n",
       "\n",
       "    .dataframe tbody tr th {\n",
       "        vertical-align: top;\n",
       "    }\n",
       "\n",
       "    .dataframe thead th {\n",
       "        text-align: right;\n",
       "    }\n",
       "</style>\n",
       "<table border=\"1\" class=\"dataframe\">\n",
       "  <thead>\n",
       "    <tr style=\"text-align: right;\">\n",
       "      <th></th>\n",
       "      <th>Sector</th>\n",
       "      <th>cagr</th>\n",
       "    </tr>\n",
       "  </thead>\n",
       "  <tbody>\n",
       "    <tr>\n",
       "      <th>45</th>\n",
       "      <td>CEMENT AND GYPSUM PRODUCTS</td>\n",
       "      <td>2.621761</td>\n",
       "    </tr>\n",
       "    <tr>\n",
       "      <th>34</th>\n",
       "      <td>PAPER AND PULP (INCLUDING PAPER PRODUCTS)</td>\n",
       "      <td>1.496162</td>\n",
       "    </tr>\n",
       "    <tr>\n",
       "      <th>54</th>\n",
       "      <td>RETAIL TRADING</td>\n",
       "      <td>1.120337</td>\n",
       "    </tr>\n",
       "    <tr>\n",
       "      <th>11</th>\n",
       "      <td>TELECOMMUNICATIONS</td>\n",
       "      <td>1.068563</td>\n",
       "    </tr>\n",
       "    <tr>\n",
       "      <th>8</th>\n",
       "      <td>ELECTRICAL EQUIPMENTS</td>\n",
       "      <td>0.837037</td>\n",
       "    </tr>\n",
       "    <tr>\n",
       "      <th>...</th>\n",
       "      <td>...</td>\n",
       "      <td>...</td>\n",
       "    </tr>\n",
       "    <tr>\n",
       "      <th>4</th>\n",
       "      <td>COAL PRODUCTION</td>\n",
       "      <td>NaN</td>\n",
       "    </tr>\n",
       "    <tr>\n",
       "      <th>16</th>\n",
       "      <td>PORTS</td>\n",
       "      <td>NaN</td>\n",
       "    </tr>\n",
       "    <tr>\n",
       "      <th>30</th>\n",
       "      <td>PHOTOGRAPHIC RAW FILM AND PAPER</td>\n",
       "      <td>NaN</td>\n",
       "    </tr>\n",
       "    <tr>\n",
       "      <th>31</th>\n",
       "      <td>DYE-STUFFS</td>\n",
       "      <td>NaN</td>\n",
       "    </tr>\n",
       "    <tr>\n",
       "      <th>42</th>\n",
       "      <td>GLUE AND GELATIN</td>\n",
       "      <td>NaN</td>\n",
       "    </tr>\n",
       "  </tbody>\n",
       "</table>\n",
       "<p>63 rows × 2 columns</p>\n",
       "</div>"
      ],
      "text/plain": [
       "                                       Sector      cagr\n",
       "45                 CEMENT AND GYPSUM PRODUCTS  2.621761\n",
       "34  PAPER AND PULP (INCLUDING PAPER PRODUCTS)  1.496162\n",
       "54                             RETAIL TRADING  1.120337\n",
       "11                         TELECOMMUNICATIONS  1.068563\n",
       "8                       ELECTRICAL EQUIPMENTS  0.837037\n",
       "..                                        ...       ...\n",
       "4                             COAL PRODUCTION       NaN\n",
       "16                                      PORTS       NaN\n",
       "30            PHOTOGRAPHIC RAW FILM AND PAPER       NaN\n",
       "31                                 DYE-STUFFS       NaN\n",
       "42                           GLUE AND GELATIN       NaN\n",
       "\n",
       "[63 rows x 2 columns]"
      ]
     },
     "execution_count": 47,
     "metadata": {},
     "output_type": "execute_result"
    }
   ],
   "source": [
    "fdi[['Sector','cagr']].sort_values(by='cagr',ascending=False)"
   ]
  },
  {
   "cell_type": "code",
   "execution_count": 48,
   "metadata": {},
   "outputs": [
    {
     "data": {
      "application/vnd.plotly.v1+json": {
       "config": {
        "linkText": "Export to plot.ly",
        "plotlyServerURL": "https://plot.ly",
        "showLink": false
       },
       "data": [
        {
         "labels": [
          "METALLURGICAL INDUSTRIES",
          "MINING",
          "POWER",
          "NON-CONVENTIONAL ENERGY",
          "COAL PRODUCTION",
          "PETROLEUM & NATURAL GAS",
          "BOILERS AND STEAM GENERATING PLANTS",
          "PRIME MOVER (OTHER THAN ELECTRICAL GENERATORS)",
          "ELECTRICAL EQUIPMENTS",
          "COMPUTER SOFTWARE & HARDWARE",
          "ELECTRONICS",
          "TELECOMMUNICATIONS",
          "INFORMATION & BROADCASTING (INCLUDING PRINT MEDIA)",
          "AUTOMOBILE INDUSTRY",
          "AIR TRANSPORT (INCLUDING AIR FREIGHT)",
          "SEA TRANSPORT",
          "PORTS",
          "RAILWAY RELATED COMPONENTS",
          "INDUSTRIAL MACHINERY",
          "MACHINE TOOLS",
          "AGRICULTURAL MACHINERY",
          "EARTH-MOVING MACHINERY",
          "MISCELLANEOUS MECHANICAL & ENGINEERING INDUSTRIES",
          "COMMERCIAL, OFFICE & HOUSEHOLD EQUIPMENTS",
          "MEDICAL AND SURGICAL APPLIANCES",
          "INDUSTRIAL INSTRUMENTS",
          "SCIENTIFIC INSTRUMENTS",
          "MATHEMATICAL,SURVEYING AND DRAWING INSTRUMENTS",
          "FERTILIZERS",
          "CHEMICALS (OTHER THAN FERTILIZERS)",
          "PHOTOGRAPHIC RAW FILM AND PAPER",
          "DYE-STUFFS",
          "DRUGS & PHARMACEUTICALS",
          "TEXTILES (INCLUDING DYED,PRINTED)",
          "PAPER AND PULP (INCLUDING PAPER PRODUCTS)",
          "SUGAR",
          "FERMENTATION INDUSTRIES",
          "FOOD PROCESSING INDUSTRIES",
          "VEGETABLE OILS AND VANASPATI",
          "SOAPS, COSMETICS & TOILET PREPARATIONS",
          "RUBBER GOODS",
          "LEATHER,LEATHER GOODS AND PICKERS",
          "GLUE AND GELATIN",
          "GLASS",
          "CERAMICS",
          "CEMENT AND GYPSUM PRODUCTS",
          "TIMBER PRODUCTS",
          "DEFENCE INDUSTRIES",
          "CONSULTANCY SERVICES",
          "SERVICES SECTOR (Fin.,Banking,Insurance,Non Fin/Business,Outsourcing,R&D,Courier,Tech. Testing and Analysis, Other)",
          "HOSPITAL & DIAGNOSTIC CENTRES",
          "EDUCATION",
          "HOTEL & TOURISM",
          "TRADING",
          "RETAIL TRADING",
          "AGRICULTURE SERVICES",
          "DIAMOND,GOLD ORNAMENTS",
          "TEA AND COFFEE (PROCESSING & WAREHOUSING COFFEE & RUBBER)",
          "PRINTING OF BOOKS (INCLUDING LITHO PRINTING INDUSTRY)",
          "COIR",
          "CONSTRUCTION (INFRASTRUCTURE) ACTIVITIES",
          "CONSTRUCTION DEVELOPMENT: Townships, housing, built-up infrastructure and construction-development projects",
          "MISCELLANEOUS INDUSTRIES"
         ],
         "type": "pie",
         "values": [
          3.3124140662482815,
          0.12822500256450003,
          2.559854051197081,
          1.8022110360442207,
          0,
          0.41492000829840014,
          0.12399300247986005,
          0.6598240131964802,
          5.130587102611742,
          8.398933167978663,
          0.19313100386262005,
          12.796487255929744,
          3.4883640697672815,
          3.701436074028721,
          0.19182000383640008,
          1.6906380338127605,
          0,
          0.20141100402822007,
          0.7573900151478002,
          0.05494700109894002,
          0.03493700069874001,
          0.12012900240258002,
          0.5640520112810402,
          0.017112000342240006,
          1.1033330220666604,
          0.0018400000368000006,
          0.17631800352636004,
          0,
          0.0020470000409400007,
          3.2034400640688006,
          0,
          0.024610000492200006,
          1.9719970394399406,
          1.4235850284717007,
          0.45450300909006014,
          0.03661600073232001,
          0.2549780050995601,
          1.6726060334521207,
          0.2494350049887001,
          0.21298000425960006,
          0.6043480120869602,
          0.005290000105800001,
          0.20838000416760005,
          0.11888700237774003,
          0.03542000070840001,
          4.899230097984601,
          0.02352900047058001,
          0,
          0.6006220120124403,
          19.973361399467226,
          1.7189740343794808,
          0.36827600736552013,
          2.107099042141981,
          5.3783201075664016,
          1.0371620207432404,
          0.17578900351578008,
          0.2850160057003201,
          0.003680000073600001,
          0.12229100244582004,
          0,
          4.279679085593582,
          0.2418220048364401,
          0.6817200136344002
         ]
        }
       ],
       "layout": {
        "showlegend": false,
        "template": {
         "data": {
          "bar": [
           {
            "error_x": {
             "color": "#2a3f5f"
            },
            "error_y": {
             "color": "#2a3f5f"
            },
            "marker": {
             "line": {
              "color": "#E5ECF6",
              "width": 0.5
             },
             "pattern": {
              "fillmode": "overlay",
              "size": 10,
              "solidity": 0.2
             }
            },
            "type": "bar"
           }
          ],
          "barpolar": [
           {
            "marker": {
             "line": {
              "color": "#E5ECF6",
              "width": 0.5
             },
             "pattern": {
              "fillmode": "overlay",
              "size": 10,
              "solidity": 0.2
             }
            },
            "type": "barpolar"
           }
          ],
          "carpet": [
           {
            "aaxis": {
             "endlinecolor": "#2a3f5f",
             "gridcolor": "white",
             "linecolor": "white",
             "minorgridcolor": "white",
             "startlinecolor": "#2a3f5f"
            },
            "baxis": {
             "endlinecolor": "#2a3f5f",
             "gridcolor": "white",
             "linecolor": "white",
             "minorgridcolor": "white",
             "startlinecolor": "#2a3f5f"
            },
            "type": "carpet"
           }
          ],
          "choropleth": [
           {
            "colorbar": {
             "outlinewidth": 0,
             "ticks": ""
            },
            "type": "choropleth"
           }
          ],
          "contour": [
           {
            "colorbar": {
             "outlinewidth": 0,
             "ticks": ""
            },
            "colorscale": [
             [
              0,
              "#0d0887"
             ],
             [
              0.1111111111111111,
              "#46039f"
             ],
             [
              0.2222222222222222,
              "#7201a8"
             ],
             [
              0.3333333333333333,
              "#9c179e"
             ],
             [
              0.4444444444444444,
              "#bd3786"
             ],
             [
              0.5555555555555556,
              "#d8576b"
             ],
             [
              0.6666666666666666,
              "#ed7953"
             ],
             [
              0.7777777777777778,
              "#fb9f3a"
             ],
             [
              0.8888888888888888,
              "#fdca26"
             ],
             [
              1,
              "#f0f921"
             ]
            ],
            "type": "contour"
           }
          ],
          "contourcarpet": [
           {
            "colorbar": {
             "outlinewidth": 0,
             "ticks": ""
            },
            "type": "contourcarpet"
           }
          ],
          "heatmap": [
           {
            "colorbar": {
             "outlinewidth": 0,
             "ticks": ""
            },
            "colorscale": [
             [
              0,
              "#0d0887"
             ],
             [
              0.1111111111111111,
              "#46039f"
             ],
             [
              0.2222222222222222,
              "#7201a8"
             ],
             [
              0.3333333333333333,
              "#9c179e"
             ],
             [
              0.4444444444444444,
              "#bd3786"
             ],
             [
              0.5555555555555556,
              "#d8576b"
             ],
             [
              0.6666666666666666,
              "#ed7953"
             ],
             [
              0.7777777777777778,
              "#fb9f3a"
             ],
             [
              0.8888888888888888,
              "#fdca26"
             ],
             [
              1,
              "#f0f921"
             ]
            ],
            "type": "heatmap"
           }
          ],
          "heatmapgl": [
           {
            "colorbar": {
             "outlinewidth": 0,
             "ticks": ""
            },
            "colorscale": [
             [
              0,
              "#0d0887"
             ],
             [
              0.1111111111111111,
              "#46039f"
             ],
             [
              0.2222222222222222,
              "#7201a8"
             ],
             [
              0.3333333333333333,
              "#9c179e"
             ],
             [
              0.4444444444444444,
              "#bd3786"
             ],
             [
              0.5555555555555556,
              "#d8576b"
             ],
             [
              0.6666666666666666,
              "#ed7953"
             ],
             [
              0.7777777777777778,
              "#fb9f3a"
             ],
             [
              0.8888888888888888,
              "#fdca26"
             ],
             [
              1,
              "#f0f921"
             ]
            ],
            "type": "heatmapgl"
           }
          ],
          "histogram": [
           {
            "marker": {
             "pattern": {
              "fillmode": "overlay",
              "size": 10,
              "solidity": 0.2
             }
            },
            "type": "histogram"
           }
          ],
          "histogram2d": [
           {
            "colorbar": {
             "outlinewidth": 0,
             "ticks": ""
            },
            "colorscale": [
             [
              0,
              "#0d0887"
             ],
             [
              0.1111111111111111,
              "#46039f"
             ],
             [
              0.2222222222222222,
              "#7201a8"
             ],
             [
              0.3333333333333333,
              "#9c179e"
             ],
             [
              0.4444444444444444,
              "#bd3786"
             ],
             [
              0.5555555555555556,
              "#d8576b"
             ],
             [
              0.6666666666666666,
              "#ed7953"
             ],
             [
              0.7777777777777778,
              "#fb9f3a"
             ],
             [
              0.8888888888888888,
              "#fdca26"
             ],
             [
              1,
              "#f0f921"
             ]
            ],
            "type": "histogram2d"
           }
          ],
          "histogram2dcontour": [
           {
            "colorbar": {
             "outlinewidth": 0,
             "ticks": ""
            },
            "colorscale": [
             [
              0,
              "#0d0887"
             ],
             [
              0.1111111111111111,
              "#46039f"
             ],
             [
              0.2222222222222222,
              "#7201a8"
             ],
             [
              0.3333333333333333,
              "#9c179e"
             ],
             [
              0.4444444444444444,
              "#bd3786"
             ],
             [
              0.5555555555555556,
              "#d8576b"
             ],
             [
              0.6666666666666666,
              "#ed7953"
             ],
             [
              0.7777777777777778,
              "#fb9f3a"
             ],
             [
              0.8888888888888888,
              "#fdca26"
             ],
             [
              1,
              "#f0f921"
             ]
            ],
            "type": "histogram2dcontour"
           }
          ],
          "mesh3d": [
           {
            "colorbar": {
             "outlinewidth": 0,
             "ticks": ""
            },
            "type": "mesh3d"
           }
          ],
          "parcoords": [
           {
            "line": {
             "colorbar": {
              "outlinewidth": 0,
              "ticks": ""
             }
            },
            "type": "parcoords"
           }
          ],
          "pie": [
           {
            "automargin": true,
            "type": "pie"
           }
          ],
          "scatter": [
           {
            "fillpattern": {
             "fillmode": "overlay",
             "size": 10,
             "solidity": 0.2
            },
            "type": "scatter"
           }
          ],
          "scatter3d": [
           {
            "line": {
             "colorbar": {
              "outlinewidth": 0,
              "ticks": ""
             }
            },
            "marker": {
             "colorbar": {
              "outlinewidth": 0,
              "ticks": ""
             }
            },
            "type": "scatter3d"
           }
          ],
          "scattercarpet": [
           {
            "marker": {
             "colorbar": {
              "outlinewidth": 0,
              "ticks": ""
             }
            },
            "type": "scattercarpet"
           }
          ],
          "scattergeo": [
           {
            "marker": {
             "colorbar": {
              "outlinewidth": 0,
              "ticks": ""
             }
            },
            "type": "scattergeo"
           }
          ],
          "scattergl": [
           {
            "marker": {
             "colorbar": {
              "outlinewidth": 0,
              "ticks": ""
             }
            },
            "type": "scattergl"
           }
          ],
          "scattermapbox": [
           {
            "marker": {
             "colorbar": {
              "outlinewidth": 0,
              "ticks": ""
             }
            },
            "type": "scattermapbox"
           }
          ],
          "scatterpolar": [
           {
            "marker": {
             "colorbar": {
              "outlinewidth": 0,
              "ticks": ""
             }
            },
            "type": "scatterpolar"
           }
          ],
          "scatterpolargl": [
           {
            "marker": {
             "colorbar": {
              "outlinewidth": 0,
              "ticks": ""
             }
            },
            "type": "scatterpolargl"
           }
          ],
          "scatterternary": [
           {
            "marker": {
             "colorbar": {
              "outlinewidth": 0,
              "ticks": ""
             }
            },
            "type": "scatterternary"
           }
          ],
          "surface": [
           {
            "colorbar": {
             "outlinewidth": 0,
             "ticks": ""
            },
            "colorscale": [
             [
              0,
              "#0d0887"
             ],
             [
              0.1111111111111111,
              "#46039f"
             ],
             [
              0.2222222222222222,
              "#7201a8"
             ],
             [
              0.3333333333333333,
              "#9c179e"
             ],
             [
              0.4444444444444444,
              "#bd3786"
             ],
             [
              0.5555555555555556,
              "#d8576b"
             ],
             [
              0.6666666666666666,
              "#ed7953"
             ],
             [
              0.7777777777777778,
              "#fb9f3a"
             ],
             [
              0.8888888888888888,
              "#fdca26"
             ],
             [
              1,
              "#f0f921"
             ]
            ],
            "type": "surface"
           }
          ],
          "table": [
           {
            "cells": {
             "fill": {
              "color": "#EBF0F8"
             },
             "line": {
              "color": "white"
             }
            },
            "header": {
             "fill": {
              "color": "#C8D4E3"
             },
             "line": {
              "color": "white"
             }
            },
            "type": "table"
           }
          ]
         },
         "layout": {
          "annotationdefaults": {
           "arrowcolor": "#2a3f5f",
           "arrowhead": 0,
           "arrowwidth": 1
          },
          "autotypenumbers": "strict",
          "coloraxis": {
           "colorbar": {
            "outlinewidth": 0,
            "ticks": ""
           }
          },
          "colorscale": {
           "diverging": [
            [
             0,
             "#8e0152"
            ],
            [
             0.1,
             "#c51b7d"
            ],
            [
             0.2,
             "#de77ae"
            ],
            [
             0.3,
             "#f1b6da"
            ],
            [
             0.4,
             "#fde0ef"
            ],
            [
             0.5,
             "#f7f7f7"
            ],
            [
             0.6,
             "#e6f5d0"
            ],
            [
             0.7,
             "#b8e186"
            ],
            [
             0.8,
             "#7fbc41"
            ],
            [
             0.9,
             "#4d9221"
            ],
            [
             1,
             "#276419"
            ]
           ],
           "sequential": [
            [
             0,
             "#0d0887"
            ],
            [
             0.1111111111111111,
             "#46039f"
            ],
            [
             0.2222222222222222,
             "#7201a8"
            ],
            [
             0.3333333333333333,
             "#9c179e"
            ],
            [
             0.4444444444444444,
             "#bd3786"
            ],
            [
             0.5555555555555556,
             "#d8576b"
            ],
            [
             0.6666666666666666,
             "#ed7953"
            ],
            [
             0.7777777777777778,
             "#fb9f3a"
            ],
            [
             0.8888888888888888,
             "#fdca26"
            ],
            [
             1,
             "#f0f921"
            ]
           ],
           "sequentialminus": [
            [
             0,
             "#0d0887"
            ],
            [
             0.1111111111111111,
             "#46039f"
            ],
            [
             0.2222222222222222,
             "#7201a8"
            ],
            [
             0.3333333333333333,
             "#9c179e"
            ],
            [
             0.4444444444444444,
             "#bd3786"
            ],
            [
             0.5555555555555556,
             "#d8576b"
            ],
            [
             0.6666666666666666,
             "#ed7953"
            ],
            [
             0.7777777777777778,
             "#fb9f3a"
            ],
            [
             0.8888888888888888,
             "#fdca26"
            ],
            [
             1,
             "#f0f921"
            ]
           ]
          },
          "colorway": [
           "#636efa",
           "#EF553B",
           "#00cc96",
           "#ab63fa",
           "#FFA15A",
           "#19d3f3",
           "#FF6692",
           "#B6E880",
           "#FF97FF",
           "#FECB52"
          ],
          "font": {
           "color": "#2a3f5f"
          },
          "geo": {
           "bgcolor": "white",
           "lakecolor": "white",
           "landcolor": "#E5ECF6",
           "showlakes": true,
           "showland": true,
           "subunitcolor": "white"
          },
          "hoverlabel": {
           "align": "left"
          },
          "hovermode": "closest",
          "mapbox": {
           "style": "light"
          },
          "paper_bgcolor": "white",
          "plot_bgcolor": "#E5ECF6",
          "polar": {
           "angularaxis": {
            "gridcolor": "white",
            "linecolor": "white",
            "ticks": ""
           },
           "bgcolor": "#E5ECF6",
           "radialaxis": {
            "gridcolor": "white",
            "linecolor": "white",
            "ticks": ""
           }
          },
          "scene": {
           "xaxis": {
            "backgroundcolor": "#E5ECF6",
            "gridcolor": "white",
            "gridwidth": 2,
            "linecolor": "white",
            "showbackground": true,
            "ticks": "",
            "zerolinecolor": "white"
           },
           "yaxis": {
            "backgroundcolor": "#E5ECF6",
            "gridcolor": "white",
            "gridwidth": 2,
            "linecolor": "white",
            "showbackground": true,
            "ticks": "",
            "zerolinecolor": "white"
           },
           "zaxis": {
            "backgroundcolor": "#E5ECF6",
            "gridcolor": "white",
            "gridwidth": 2,
            "linecolor": "white",
            "showbackground": true,
            "ticks": "",
            "zerolinecolor": "white"
           }
          },
          "shapedefaults": {
           "line": {
            "color": "#2a3f5f"
           }
          },
          "ternary": {
           "aaxis": {
            "gridcolor": "white",
            "linecolor": "white",
            "ticks": ""
           },
           "baxis": {
            "gridcolor": "white",
            "linecolor": "white",
            "ticks": ""
           },
           "bgcolor": "#E5ECF6",
           "caxis": {
            "gridcolor": "white",
            "linecolor": "white",
            "ticks": ""
           }
          },
          "title": {
           "x": 0.05
          },
          "xaxis": {
           "automargin": true,
           "gridcolor": "white",
           "linecolor": "white",
           "ticks": "",
           "title": {
            "standoff": 15
           },
           "zerolinecolor": "white",
           "zerolinewidth": 2
          },
          "yaxis": {
           "automargin": true,
           "gridcolor": "white",
           "linecolor": "white",
           "ticks": "",
           "title": {
            "standoff": 15
           },
           "zerolinecolor": "white",
           "zerolinewidth": 2
          }
         }
        }
       }
      }
     },
     "metadata": {},
     "output_type": "display_data"
    }
   ],
   "source": [
    "tr = fdi[['Sector','2016']]['2016'].sum()\n",
    "\n",
    "trace = go.Pie(labels=fdi['Sector'].values, values=((fdi['2016']/tr)*100).values)\n",
    "layout = go.Layout(showlegend=False)\n",
    "fig = go.Figure(data=[trace], layout=layout)\n",
    "iplot(fig)"
   ]
  },
  {
   "cell_type": "code",
   "execution_count": 49,
   "metadata": {},
   "outputs": [
    {
     "data": {
      "text/plain": [
       "array(['SERVICES SECTOR (Fin.,Banking,Insurance,Non Fin/Business,Outsourcing,R&D,Courier,Tech. Testing and Analysis, Other)',\n",
       "       'TELECOMMUNICATIONS', 'COMPUTER SOFTWARE & HARDWARE', 'TRADING',\n",
       "       'ELECTRICAL EQUIPMENTS'], dtype=object)"
      ]
     },
     "execution_count": 49,
     "metadata": {},
     "output_type": "execute_result"
    }
   ],
   "source": [
    "fdi[['Sector','2016']].sort_values(by='2016',ascending=False)['Sector'][:5].values"
   ]
  }
 ],
 "metadata": {
  "kernelspec": {
   "display_name": "myintern",
   "language": "python",
   "name": "python3"
  },
  "language_info": {
   "codemirror_mode": {
    "name": "ipython",
    "version": 3
   },
   "file_extension": ".py",
   "mimetype": "text/x-python",
   "name": "python",
   "nbconvert_exporter": "python",
   "pygments_lexer": "ipython3",
   "version": "3.11.4"
  }
 },
 "nbformat": 4,
 "nbformat_minor": 2
}
